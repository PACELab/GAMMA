{
 "cells": [
  {
   "cell_type": "code",
   "execution_count": 1,
   "metadata": {},
   "outputs": [],
   "source": [
    "import requests"
   ]
  },
  {
   "cell_type": "code",
   "execution_count": 4,
   "metadata": {},
   "outputs": [],
   "source": [
    "url = \"http://130.245.169.45:9200/graph?g0.expr=container_fs_writes_bytes_total%7Bnamespace%3D%22social-network%22%7D&g0.tab=0&g0.stacked=1&g0.show_exemplars=1&g0.range_input=12h\""
   ]
  },
  {
   "cell_type": "code",
   "execution_count": 5,
   "metadata": {},
   "outputs": [],
   "source": [
    "res = requests.get(url)"
   ]
  },
  {
   "cell_type": "code",
   "execution_count": 6,
   "metadata": {},
   "outputs": [
    {
     "name": "stdout",
     "output_type": "stream",
     "text": [
      "<!doctype html><html lang=\"en\"><head><meta charset=\"utf-8\"/><link rel=\"shortcut icon\" href=\"./favicon.ico\"/><meta name=\"viewport\" content=\"width=device-width,initial-scale=1,shrink-to-fit=no\"/><meta name=\"theme-color\" content=\"#000000\"/><script>const GLOBAL_CONSOLES_LINK=\"\",GLOBAL_AGENT_MODE=\"false\",GLOBAL_READY=\"true\"</script><link rel=\"manifest\" href=\"./manifest.json\" crossorigin=\"use-credentials\"/><title>Prometheus Time Series Collection and Processing Server</title><script defer=\"defer\" src=\"./static/js/main.1542d2ea.js\"></script><link href=\"./static/css/main.4858e794.css\" rel=\"stylesheet\"></head><body class=\"bootstrap\"><noscript>You need to enable JavaScript to run this app.</noscript><div id=\"root\"></div></body></html>\n"
     ]
    }
   ],
   "source": [
    "print(res.text)"
   ]
  },
  {
   "cell_type": "code",
   "execution_count": 7,
   "metadata": {},
   "outputs": [],
   "source": [
    "response =requests.get(\"http://130.245.169.45:9200\" + '/api/v1/query', params={'query': 'container_cpu_user_seconds_total{namespace=\"social-network\", container=\"post-storage-memcached\"}[1200s]'})"
   ]
  },
  {
   "cell_type": "code",
   "execution_count": 9,
   "metadata": {},
   "outputs": [
    {
     "data": {
      "text/plain": [
       "[[1687644637.038, '255.21'],\n",
       " [1687644648.276, '255.21'],\n",
       " [1687644664.384, '255.22'],\n",
       " [1687644684.384, '255.23'],\n",
       " [1687644695.519, '255.23'],\n",
       " [1687644711.13, '255.23'],\n",
       " [1687644724.22, '255.23'],\n",
       " [1687644736.847, '255.23'],\n",
       " [1687644747.132, '255.23'],\n",
       " [1687644763.047, '255.23'],\n",
       " [1687644774.393, '255.25'],\n",
       " [1687644793.606, '255.25'],\n",
       " [1687644810.508, '255.26'],\n",
       " [1687644822.402, '255.26'],\n",
       " [1687644835.877, '255.26'],\n",
       " [1687644853.256, '255.26'],\n",
       " [1687644868.049, '255.26'],\n",
       " [1687644879.307, '255.26'],\n",
       " [1687644896.412, '255.27'],\n",
       " [1687644908.427, '255.27'],\n",
       " [1687644924.173, '255.27'],\n",
       " [1687644941.957, '255.28'],\n",
       " [1687644957.947, '255.28'],\n",
       " [1687644975.948, '255.28'],\n",
       " [1687644993.901, '255.28'],\n",
       " [1687645009.295, '255.28'],\n",
       " [1687645022.581, '255.28'],\n",
       " [1687645035.768, '255.28'],\n",
       " [1687645047.841, '255.29'],\n",
       " [1687645058.684, '255.29'],\n",
       " [1687645074.07, '255.29'],\n",
       " [1687645092.979, '255.29'],\n",
       " [1687645111.055, '255.29'],\n",
       " [1687645129.371, '255.29'],\n",
       " [1687645145.935, '255.29'],\n",
       " [1687645162.645, '255.29'],\n",
       " [1687645181.649, '255.3'],\n",
       " [1687645193.057, '255.3'],\n",
       " [1687645204.134, '255.3'],\n",
       " [1687645219.637, '255.31'],\n",
       " [1687645236.946, '255.31'],\n",
       " [1687645249.909, '255.31'],\n",
       " [1687645265.582, '255.31'],\n",
       " [1687645282.199, '255.31'],\n",
       " [1687645299.846, '255.31'],\n",
       " [1687645310.341, '255.31'],\n",
       " [1687645321.181, '255.31'],\n",
       " [1687645338.869, '255.31'],\n",
       " [1687645350.32, '255.32'],\n",
       " [1687645362.576, '255.32'],\n",
       " [1687645380.852, '255.33'],\n",
       " [1687645393.347, '255.34'],\n",
       " [1687645413.243, '255.34'],\n",
       " [1687645432.443, '255.34'],\n",
       " [1687645444.527, '255.35'],\n",
       " [1687645460.151, '255.35'],\n",
       " [1687645478.622, '255.35'],\n",
       " [1687645491.763, '255.36'],\n",
       " [1687645510.279, '255.37'],\n",
       " [1687645529.58, '255.37'],\n",
       " [1687645540.561, '255.37'],\n",
       " [1687645553.54, '255.37'],\n",
       " [1687645566.504, '255.37'],\n",
       " [1687645581.5, '255.37'],\n",
       " [1687645595.893, '255.38'],\n",
       " [1687645611.633, '255.38'],\n",
       " [1687645623.136, '255.38'],\n",
       " [1687645635.653, '255.38'],\n",
       " [1687645648.205, '255.38'],\n",
       " [1687645658.974, '255.38'],\n",
       " [1687645678.301, '255.38'],\n",
       " [1687645694.223, '255.39'],\n",
       " [1687645707.929, '255.39'],\n",
       " [1687645721.405, '255.39'],\n",
       " [1687645731.903, '255.39'],\n",
       " [1687645748.244, '255.4'],\n",
       " [1687645766.984, '255.4'],\n",
       " [1687645783.755, '255.41'],\n",
       " [1687645799.226, '255.41'],\n",
       " [1687645817.725, '255.41']]"
      ]
     },
     "execution_count": 9,
     "metadata": {},
     "output_type": "execute_result"
    }
   ],
   "source": [
    "response.json()['data']['result'][0][\"values\"]"
   ]
  },
  {
   "cell_type": "code",
   "execution_count": null,
   "metadata": {},
   "outputs": [],
   "source": []
  }
 ],
 "metadata": {
  "kernelspec": {
   "display_name": "Python 3",
   "language": "python",
   "name": "python3"
  },
  "language_info": {
   "codemirror_mode": {
    "name": "ipython",
    "version": 3
   },
   "file_extension": ".py",
   "mimetype": "text/x-python",
   "name": "python",
   "nbconvert_exporter": "python",
   "pygments_lexer": "ipython3",
   "version": "3.6.9"
  },
  "orig_nbformat": 4
 },
 "nbformat": 4,
 "nbformat_minor": 2
}
